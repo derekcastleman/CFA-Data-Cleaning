{
 "cells": [
  {
   "cell_type": "markdown",
   "id": "6822bf98",
   "metadata": {},
   "source": [
    "# CFA Data Preparation\n",
    "\n",
    "After downloading the data from Illuminate, make sure that you filter the students that are in the Alg1, Alg2 and GEO classes and change their grade level to each of these subject course titles (example 9th to ALG1) before you run the data through this program so they have the proper grade level.\n",
    "\n",
    "LIST STU ID LN FN GR SEC MST.RM MST TCH.TE CRS CRS.CO MST.PD CRS.DC MST.SM  \n",
    "\n",
    "Run the query and remove all classes other than the math classes and ela classes that are of interest.\n",
    "\n",
    "Then load cleaned file for teachers."
   ]
  },
  {
   "cell_type": "code",
   "execution_count": null,
   "id": "b3c4af0d",
   "metadata": {},
   "outputs": [],
   "source": [
    "import pandas as pd\n",
    "import numpy as np"
   ]
  },
  {
   "cell_type": "code",
   "execution_count": null,
   "id": "de9d9721",
   "metadata": {},
   "outputs": [],
   "source": [
    "ela_data = pd.read_excel(r\"C:\\Users\\derek.castleman\\Desktop\\eladatacfa2.xls\") #New ela data\n",
    "math_data = pd.read_excel(r\"C:\\Users\\derek.castleman\\Desktop\\Math CFA 2.xls\") # New math data\n",
    "old_data = pd.read_csv(r\"C:\\Users\\derek.castleman\\Desktop\\CFA All Data\\CFA Standards One.csv\") #Previous combined standards file\n",
    "teachers = pd.read_excel(r\"C:\\Users\\derek.castleman\\Desktop\\TeachertoStudentCFA.xlsx\") # Clean teacher file from query\n",
    "output = \"C:\\\\Users\\\\derek.castleman\\\\Desktop\\\\CFA All Data\\\\CFA_Three.xlsx\""
   ]
  },
  {
   "cell_type": "code",
   "execution_count": null,
   "id": "92cd53f0",
   "metadata": {},
   "outputs": [],
   "source": [
    "ela_data"
   ]
  },
  {
   "cell_type": "code",
   "execution_count": null,
   "id": "11693e38",
   "metadata": {},
   "outputs": [],
   "source": [
    "math_data"
   ]
  },
  {
   "cell_type": "code",
   "execution_count": null,
   "id": "9584602b",
   "metadata": {},
   "outputs": [],
   "source": [
    "old_data"
   ]
  },
  {
   "cell_type": "code",
   "execution_count": null,
   "id": "1a5e1cdb",
   "metadata": {},
   "outputs": [],
   "source": [
    "teachers"
   ]
  },
  {
   "cell_type": "markdown",
   "id": "ea6e7331",
   "metadata": {},
   "source": [
    "## Getting Rid of Unnecessary Columns Math\n",
    "\n",
    "Some of the columns are unnecessary in the file from Illuminate so this will get rid of most of them.\n",
    "\n",
    "It will also separate out the overall scores columns for later use."
   ]
  },
  {
   "cell_type": "code",
   "execution_count": null,
   "id": "801dc237",
   "metadata": {},
   "outputs": [],
   "source": [
    "math_data = math_data.loc[:,~math_data.columns.str.contains('Subject') ]\n",
    "math_data = math_data.loc[:,~math_data.columns.str.contains('Scope') ]\n",
    "math_data = math_data.loc[:,~math_data.columns.str.contains('Title') ]\n",
    "math_data = math_data.loc[:,~math_data.columns.str.contains('Description') ]\n",
    "math_data = math_data.loc[:,~math_data.columns.str.contains('Date') ]\n",
    "math_data = math_data.loc[:,~math_data.columns.str.contains('Time') ]\n",
    "math_data = math_data.loc[:,~math_data.columns.str.contains('Mastered') ]\n",
    "math_data = math_data.loc[:,~math_data.columns.str.contains('Questions')]\n",
    "math_data = math_data.loc[:,~math_data.columns.str.contains('Minutes')]\n",
    "math_tests = math_data.loc[:,~math_data.columns.str.contains('Author') ]"
   ]
  },
  {
   "cell_type": "code",
   "execution_count": null,
   "id": "e687186c",
   "metadata": {},
   "outputs": [],
   "source": [
    "first_columns_math = math_tests.iloc[:, :14] #Selecting overall test columns"
   ]
  },
  {
   "cell_type": "code",
   "execution_count": null,
   "id": "175f9fd8",
   "metadata": {},
   "outputs": [],
   "source": [
    "first_columns_math"
   ]
  },
  {
   "cell_type": "markdown",
   "id": "cdf1ceb5",
   "metadata": {},
   "source": [
    "## Fixing Math Data\n",
    "\n",
    "The front columns will be taken out to leave only the standards column scores.\n",
    "\n",
    "The extra information will be subtracted from the column names to leave only the standards themselves as the column names.\n",
    "\n",
    "Then all columns will be melted leaving two columns with column names and associated values for it."
   ]
  },
  {
   "cell_type": "code",
   "execution_count": null,
   "id": "0e3e7759",
   "metadata": {},
   "outputs": [],
   "source": [
    "# Dropping overall test and demographic information\n",
    "math_standards = math_data.drop(math_data.columns[[0, 2, 3, 4, 5, 6, 7, 8, 9, 10, 11, 12, 13]],axis = 1)\n",
    "math_standards"
   ]
  },
  {
   "cell_type": "code",
   "execution_count": null,
   "id": "fab407ab",
   "metadata": {},
   "outputs": [],
   "source": [
    "# Cleaning up column names\n",
    "math_standards = math_standards.rename(columns=lambda x: x.split('.Content.')[-1])\n",
    "math_standards = math_standards.rename(columns=lambda x: x.split('Performance Band Level')[0])\n",
    "math_standards"
   ]
  },
  {
   "cell_type": "code",
   "execution_count": null,
   "id": "95c6b1da",
   "metadata": {},
   "outputs": [],
   "source": [
    "# Melting all columns down to just column names and values\n",
    "math_final = math_standards.melt(['Student ID'], var_name='category', value_name='values')\n",
    "math_final"
   ]
  },
  {
   "cell_type": "code",
   "execution_count": null,
   "id": "1936445e",
   "metadata": {},
   "outputs": [],
   "source": [
    "math_final = math_final[math_final['values'].notna()] #Dropping rows where students have no values\n",
    "math_final"
   ]
  },
  {
   "cell_type": "code",
   "execution_count": null,
   "id": "cb4e5bf0",
   "metadata": {},
   "outputs": [],
   "source": [
    "# The final subject of Math will be added to allow for concat later on with ela\n",
    "math_final['Subject'] = 'Math'\n",
    "math_final"
   ]
  },
  {
   "cell_type": "markdown",
   "id": "47f60971",
   "metadata": {},
   "source": [
    "## Editing ELA Data\n",
    "\n",
    "The same exact steps that were taken with the Math data will now be taken with the ELA data."
   ]
  },
  {
   "cell_type": "code",
   "execution_count": null,
   "id": "200ff3a6",
   "metadata": {},
   "outputs": [],
   "source": [
    "ela_data = ela_data.loc[:,~ela_data.columns.str.contains('Subject') ]\n",
    "ela_data = ela_data.loc[:,~ela_data.columns.str.contains('Scope') ]\n",
    "ela_data = ela_data.loc[:,~ela_data.columns.str.contains('Title') ]\n",
    "ela_data = ela_data.loc[:,~ela_data.columns.str.contains('Description') ]\n",
    "ela_data = ela_data.loc[:,~ela_data.columns.str.contains('Date') ]\n",
    "ela_data = ela_data.loc[:,~ela_data.columns.str.contains('Time') ]\n",
    "ela_data = ela_data.loc[:,~ela_data.columns.str.contains('Mastered') ]\n",
    "ela_data = ela_data.loc[:,~ela_data.columns.str.contains('Questions')]\n",
    "ela_data = ela_data.loc[:,~ela_data.columns.str.contains('Minutes')]\n",
    "ela_tests = ela_data.loc[:,~ela_data.columns.str.contains('Author') ]\n",
    "ela_tests"
   ]
  },
  {
   "cell_type": "code",
   "execution_count": null,
   "id": "eb85431f",
   "metadata": {},
   "outputs": [],
   "source": [
    "first_columns_ela = ela_tests.iloc[:, :14]\n",
    "first_columns_ela"
   ]
  },
  {
   "cell_type": "code",
   "execution_count": null,
   "id": "ed2827e4",
   "metadata": {},
   "outputs": [],
   "source": [
    "ela_standards = ela_tests.drop(ela_data.columns[[0, 2, 3, 4, 5, 6, 7, 8, 9, 10, 11, 12, 13]],axis = 1)\n",
    "ela_standards"
   ]
  },
  {
   "cell_type": "code",
   "execution_count": null,
   "id": "de6d0fcc",
   "metadata": {},
   "outputs": [],
   "source": [
    "ela_standards = ela_standards.rename(columns=lambda x: x.split('Literacy.')[-1])\n",
    "ela_standards = ela_standards.rename(columns=lambda x: x.split('Performance Band Level')[0])\n",
    "ela_standards"
   ]
  },
  {
   "cell_type": "code",
   "execution_count": null,
   "id": "856284c9",
   "metadata": {},
   "outputs": [],
   "source": [
    "ela_final = ela_standards.melt(['Student ID'], var_name='category', value_name='values')\n",
    "ela_final"
   ]
  },
  {
   "cell_type": "code",
   "execution_count": null,
   "id": "903c185a",
   "metadata": {},
   "outputs": [],
   "source": [
    "ela_final = ela_final[ela_final['values'].notna()]\n",
    "ela_final"
   ]
  },
  {
   "cell_type": "code",
   "execution_count": null,
   "id": "792a14dc",
   "metadata": {},
   "outputs": [],
   "source": [
    "ela_final['Subject'] = 'ELA'\n",
    "ela_final"
   ]
  },
  {
   "cell_type": "markdown",
   "id": "d186b1fe",
   "metadata": {},
   "source": [
    "## Fixing Teachers and Finishing Standards\n",
    "\n",
    "Attaching the teachers to the students file. First they will be separated by subjects (advisory, ela, and math) then each will be attached to the corresponding subject (advisory to both).\n",
    "\n",
    "The teachers will be attached to the fixed files on standards for each of the ela and math, then they will be concatenated to produce one final file that has the ela and math standards with the teachers ready for Tableau."
   ]
  },
  {
   "cell_type": "code",
   "execution_count": null,
   "id": "8032b6ce",
   "metadata": {},
   "outputs": [],
   "source": [
    "# Selecting homeroom teachers\n",
    "homeroom = teachers[teachers['Dept']== 10]\n",
    "homeroom = homeroom.rename({'Teacher name': 'Advisory Teacher'}, axis=1)\n",
    "homeroom = homeroom[[\"Student ID\", \"Advisory Teacher\"]]\n",
    "homeroom"
   ]
  },
  {
   "cell_type": "code",
   "execution_count": null,
   "id": "83addd91",
   "metadata": {},
   "outputs": [],
   "source": [
    "# Selecting ELA teachers\n",
    "ela = teachers[teachers['Dept']== 1]\n",
    "ela = ela.rename({'Teacher name': 'Subject Teacher'}, axis=1)\n",
    "ela = ela[[\"Student ID\", \"Subject Teacher\"]]\n",
    "ela"
   ]
  },
  {
   "cell_type": "code",
   "execution_count": null,
   "id": "6b180e28",
   "metadata": {},
   "outputs": [],
   "source": [
    "# Selecting Math teachers\n",
    "math = teachers[teachers['Dept']== 2]\n",
    "math = math.rename({'Teacher name': 'Subject Teacher'}, axis=1)\n",
    "math = math[[\"Student ID\", \"Subject Teacher\"]]\n",
    "math"
   ]
  },
  {
   "cell_type": "code",
   "execution_count": null,
   "id": "56fff663",
   "metadata": {},
   "outputs": [],
   "source": [
    "# Matching ELA and Advisory teachers\n",
    "ela_merge = pd.merge(ela, homeroom, how='left', on='Student ID')\n",
    "ela_merge"
   ]
  },
  {
   "cell_type": "code",
   "execution_count": null,
   "id": "4c5d038a",
   "metadata": {},
   "outputs": [],
   "source": [
    "ela_merge = ela_merge.drop_duplicates(['Student ID','Advisory Teacher'])\n",
    "ela_merge"
   ]
  },
  {
   "cell_type": "code",
   "execution_count": null,
   "id": "2e4593e1",
   "metadata": {},
   "outputs": [],
   "source": [
    "# Matching Math and Advisory teachers\n",
    "math_merge = pd.merge(math, homeroom, how='left', on='Student ID')\n",
    "math_merge"
   ]
  },
  {
   "cell_type": "code",
   "execution_count": null,
   "id": "bd9045d3",
   "metadata": {},
   "outputs": [],
   "source": [
    "math_merge = math_merge.drop_duplicates(['Student ID','Advisory Teacher'])\n",
    "math_merge"
   ]
  },
  {
   "cell_type": "code",
   "execution_count": null,
   "id": "6a0da6f3",
   "metadata": {},
   "outputs": [],
   "source": [
    "# Matching Math with Overall Scores\n",
    "math_ready = pd.merge(first_columns_math, math_merge, how = 'left', on='Student ID')\n",
    "math_ready"
   ]
  },
  {
   "cell_type": "code",
   "execution_count": null,
   "id": "e7015c73",
   "metadata": {},
   "outputs": [],
   "source": [
    "# Matching ELA with Overall Scores\n",
    "ela_ready = pd.merge(first_columns_ela, ela_merge, how = 'left', on='Student ID')\n",
    "ela_ready"
   ]
  },
  {
   "cell_type": "code",
   "execution_count": null,
   "id": "b550fd42",
   "metadata": {},
   "outputs": [],
   "source": [
    "# Matching Math with Fixed Standards\n",
    "math_final = pd.merge(math_ready, math_final, how='left', on='Student ID')\n",
    "math_final"
   ]
  },
  {
   "cell_type": "code",
   "execution_count": null,
   "id": "17eb154d",
   "metadata": {},
   "outputs": [],
   "source": [
    "math_final = math_final.drop_duplicates(['Student ID','category', 'values'])\n",
    "math_final"
   ]
  },
  {
   "cell_type": "code",
   "execution_count": null,
   "id": "241672ab",
   "metadata": {},
   "outputs": [],
   "source": [
    "# Matching ELA with Fixed Standards\n",
    "ela_final = pd.merge(ela_ready, ela_final, how='left', on='Student ID')\n",
    "ela_final"
   ]
  },
  {
   "cell_type": "code",
   "execution_count": null,
   "id": "bf67acfe",
   "metadata": {},
   "outputs": [],
   "source": [
    "ela_final = ela_final.drop_duplicates(['Student ID','category', 'values'])\n",
    "ela_final"
   ]
  },
  {
   "cell_type": "code",
   "execution_count": null,
   "id": "2441cf35",
   "metadata": {},
   "outputs": [],
   "source": [
    "# Concatenating the Math and ELA dataframes together.\n",
    "final_cfa = pd.concat([math_final, ela_final])\n",
    "final_cfa"
   ]
  },
  {
   "cell_type": "code",
   "execution_count": null,
   "id": "32cfb287",
   "metadata": {},
   "outputs": [],
   "source": [
    "# CSV file is generated in case you want to look at it and make sure everything looks good.\n",
    "\n",
    "import base64\n",
    "from IPython.display import HTML\n",
    "\n",
    "def create_download_link( df, title = \"CFA Standards\", filename = \"CFA Standards\"):\n",
    "    csv = df.to_csv()\n",
    "    b64 = base64.b64encode(csv.encode())\n",
    "    payload = b64.decode()\n",
    "    html = '<a download=\"{filename}\" href=\"data:text/csv;base64,{payload}\" target=\"_blank\">{title}</a>'\n",
    "    html = html.format(payload=payload,title=title,filename=filename)\n",
    "    return HTML(html)\n",
    "\n",
    "create_download_link(final_cfa)"
   ]
  },
  {
   "cell_type": "markdown",
   "id": "b3370064",
   "metadata": {},
   "source": [
    "## Matching Standards\n",
    "\n",
    "For the next section, the new standards for the current CFA will be merged with the standards from previous CFAs to allow for comparison.\n",
    "\n",
    "Full outer merge is done to keep standards in common and not in common.\n",
    "\n",
    "ELA and Math will be separated then a new column of subject will be created to deal with nulls that pop up in standards that do not overlap between different CFAs"
   ]
  },
  {
   "cell_type": "code",
   "execution_count": null,
   "id": "eaa929eb",
   "metadata": {},
   "outputs": [],
   "source": [
    "# Outer merge to include all standards\n",
    "cfa_merged = pd.merge(final_cfa, old_data, how = 'outer', on = ['Student ID', 'category', 'Current Grade Level', \n",
    "                                                            'Subject Teacher', 'Advisory Teacher'])\n",
    "cfa_merged"
   ]
  },
  {
   "cell_type": "code",
   "execution_count": null,
   "id": "76620a72",
   "metadata": {},
   "outputs": [],
   "source": [
    "# Selecting subjects that are ELA\n",
    "cfa_ela = cfa_merged[(cfa_merged['Subject_x'] == 'ELA') | (cfa_merged['Subject_y'] == 'ELA')]\n",
    "cfa_ela"
   ]
  },
  {
   "cell_type": "code",
   "execution_count": null,
   "id": "83774a63",
   "metadata": {},
   "outputs": [],
   "source": [
    "# Creating one final category of Subject to deal with nulls between missing standards\n",
    "cfa_ela['Subject'] = 'ELA'\n",
    "cfa_ela"
   ]
  },
  {
   "cell_type": "code",
   "execution_count": null,
   "id": "ce21204a",
   "metadata": {},
   "outputs": [],
   "source": [
    "cfa_math = cfa_merged[(cfa_merged['Subject_x'] == 'Math') | (cfa_merged['Subject_y'] == 'Math')]\n",
    "cfa_math"
   ]
  },
  {
   "cell_type": "code",
   "execution_count": null,
   "id": "05404e26",
   "metadata": {},
   "outputs": [],
   "source": [
    "cfa_math['Subject'] = 'Math'\n",
    "cfa_math"
   ]
  },
  {
   "cell_type": "code",
   "execution_count": null,
   "id": "afb0b4a9",
   "metadata": {},
   "outputs": [],
   "source": [
    "cfa_merged = pd.concat([cfa_ela, cfa_math])\n",
    "cfa_merged"
   ]
  },
  {
   "cell_type": "markdown",
   "id": "60947099",
   "metadata": {},
   "source": [
    "## Overall CFA\n",
    "\n",
    "The original first columns that were separated at the beginning of the program will be concatenated for each subject to produce one data frame that has the overall scores for students.\n",
    "\n",
    "Teachers for the students will be added to this dataframe in a similar manner as the standards file above.\n",
    "\n",
    "A column of subject is also created so that we know which test we are looking at and for filtering in Tableau."
   ]
  },
  {
   "cell_type": "code",
   "execution_count": null,
   "id": "c154b373",
   "metadata": {},
   "outputs": [],
   "source": [
    "ela_ready"
   ]
  },
  {
   "cell_type": "code",
   "execution_count": null,
   "id": "5668c192",
   "metadata": {},
   "outputs": [],
   "source": [
    "ela_ready['Subject'] = 'ELA' #Adding subject to track what test it is\n",
    "ela_ready"
   ]
  },
  {
   "cell_type": "code",
   "execution_count": null,
   "id": "76d1d0d4",
   "metadata": {},
   "outputs": [],
   "source": [
    "math_ready['Subject'] = 'Math' #Adding subject ot track what test it is\n",
    "math_ready"
   ]
  },
  {
   "cell_type": "code",
   "execution_count": null,
   "id": "a86cb459",
   "metadata": {},
   "outputs": [],
   "source": [
    "cfa_overall = pd.concat([ela_ready, math_ready]) # Concat both dataframes together\n",
    "cfa_overall"
   ]
  },
  {
   "cell_type": "markdown",
   "id": "64d5b9b4",
   "metadata": {},
   "source": [
    "## Final File\n",
    "\n",
    "A final file is generated with sheets for each of the major dataframes (overall, current test standards, standards comparison)."
   ]
  },
  {
   "cell_type": "code",
   "execution_count": null,
   "id": "036276ca",
   "metadata": {},
   "outputs": [],
   "source": [
    "# Write all grades and assignment data to excel file\n",
    "writer = pd.ExcelWriter(output)\n",
    "\n",
    "cfa_overall.to_excel(writer, sheet_name='Overall Scores',index=False)\n",
    "final_cfa.to_excel(writer, sheet_name='Current test Standards',index=False)\n",
    "cfa_merged.to_excel(writer, sheet_name='Standards Comparison',index=False)\n",
    "\n",
    "writer.save()"
   ]
  }
 ],
 "metadata": {
  "kernelspec": {
   "display_name": "Python 3 (ipykernel)",
   "language": "python",
   "name": "python3"
  },
  "language_info": {
   "codemirror_mode": {
    "name": "ipython",
    "version": 3
   },
   "file_extension": ".py",
   "mimetype": "text/x-python",
   "name": "python",
   "nbconvert_exporter": "python",
   "pygments_lexer": "ipython3",
   "version": "3.9.7"
  }
 },
 "nbformat": 4,
 "nbformat_minor": 5
}
